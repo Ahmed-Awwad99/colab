{
  "nbformat": 4,
  "nbformat_minor": 0,
  "metadata": {
    "colab": {
      "provenance": [],
      "toc_visible": true,
      "mount_file_id": "1NoJaQB28VWBpJURELCTzOaYS4FPISgV2",
      "authorship_tag": "ABX9TyM0IWyOK8mwIGpAzxHjq5tu",
      "include_colab_link": true
    },
    "kernelspec": {
      "name": "python3",
      "display_name": "Python 3"
    },
    "language_info": {
      "name": "python"
    },
    "accelerator": "GPU",
    "gpuClass": "standard"
  },
  "cells": [
    {
      "cell_type": "markdown",
      "metadata": {
        "id": "view-in-github",
        "colab_type": "text"
      },
      "source": [
        "<a href=\"https://colab.research.google.com/github/Ahmed-Awwad99/colab/blob/main/Copy_of_colab.ipynb\" target=\"_parent\"><img src=\"https://colab.research.google.com/assets/colab-badge.svg\" alt=\"Open In Colab\"/></a>"
      ]
    },
    {
      "cell_type": "markdown",
      "source": [
        "# Allocated resources"
      ],
      "metadata": {
        "id": "PQudUQauqf-Q"
      }
    },
    {
      "cell_type": "code",
      "execution_count": 1,
      "metadata": {
        "id": "kbhQwbOEUqcg"
      },
      "outputs": [],
      "source": [
        "from psutil import *"
      ]
    },
    {
      "cell_type": "markdown",
      "source": [
        "## CPU"
      ],
      "metadata": {
        "id": "4CD_otXQq-Ic"
      }
    },
    {
      "cell_type": "markdown",
      "source": [
        "#### number of cpu units"
      ],
      "metadata": {
        "id": "7zgvjzi6rVqz"
      }
    },
    {
      "cell_type": "code",
      "source": [
        "cpu_count()"
      ],
      "metadata": {
        "colab": {
          "base_uri": "https://localhost:8080/"
        },
        "id": "7N3T17aoUvAL",
        "outputId": "807272c9-ec32-4ada-f1f7-803c329fb410"
      },
      "execution_count": 2,
      "outputs": [
        {
          "output_type": "execute_result",
          "data": {
            "text/plain": [
              "2"
            ]
          },
          "metadata": {},
          "execution_count": 2
        }
      ]
    },
    {
      "cell_type": "markdown",
      "source": [
        "#### cpu model and speed"
      ],
      "metadata": {
        "id": "eIVHPJ1LrIuL"
      }
    },
    {
      "cell_type": "code",
      "source": [
        "!lscpu |grep 'Model name'"
      ],
      "metadata": {
        "colab": {
          "base_uri": "https://localhost:8080/"
        },
        "id": "7-O6GvwSUxAn",
        "outputId": "0596055c-a49d-464d-d037-9b5f31097046"
      },
      "execution_count": 3,
      "outputs": [
        {
          "output_type": "stream",
          "name": "stdout",
          "text": [
            "Model name:                      Intel(R) Xeon(R) CPU @ 2.20GHz\n"
          ]
        }
      ]
    },
    {
      "cell_type": "markdown",
      "source": [
        "## HDD"
      ],
      "metadata": {
        "id": "MQFnwwdprvKD"
      }
    },
    {
      "cell_type": "markdown",
      "source": [
        "#### Usable HDD space"
      ],
      "metadata": {
        "id": "Vl4r9xhEri-_"
      }
    },
    {
      "cell_type": "code",
      "source": [
        "\n",
        "!df -h | awk '{print $4}'"
      ],
      "metadata": {
        "colab": {
          "base_uri": "https://localhost:8080/"
        },
        "id": "_Mnn6C0nVAQC",
        "outputId": "50d69419-a736-43f5-c43a-18a935970861"
      },
      "execution_count": 4,
      "outputs": [
        {
          "output_type": "stream",
          "name": "stdout",
          "text": [
            "Avail\n",
            "51G\n",
            "64M\n",
            "5.7G\n",
            "841M\n",
            "34G\n",
            "6.4G\n",
            "6.4G\n",
            "6.4G\n",
            "6.4G\n"
          ]
        }
      ]
    },
    {
      "cell_type": "markdown",
      "source": [
        "## memory"
      ],
      "metadata": {
        "id": "wUKM05odr9wk"
      }
    },
    {
      "cell_type": "markdown",
      "source": [
        "####  Usable memory"
      ],
      "metadata": {
        "id": "7qig7d27sAy0"
      }
    },
    {
      "cell_type": "code",
      "source": [
        "#memory that we c an use \n",
        "!free -h --si | awk '/Mem:/{print $2}'"
      ],
      "metadata": {
        "colab": {
          "base_uri": "https://localhost:8080/"
        },
        "id": "VYnAhDa7VSbq",
        "outputId": "99c53e20-cb97-4d7c-a3e1-7bc24804b699"
      },
      "execution_count": 5,
      "outputs": [
        {
          "output_type": "stream",
          "name": "stdout",
          "text": [
            "12G\n"
          ]
        }
      ]
    },
    {
      "cell_type": "markdown",
      "source": [
        "## GPU"
      ],
      "metadata": {
        "id": "xG7mmFwPsmqj"
      }
    },
    {
      "cell_type": "markdown",
      "source": [
        "#### GPU type"
      ],
      "metadata": {
        "id": "T6XeLLb5svp0"
      }
    },
    {
      "cell_type": "code",
      "source": [
        "!nvidia-smi -L"
      ],
      "metadata": {
        "colab": {
          "base_uri": "https://localhost:8080/"
        },
        "id": "6An7ia0PXT3u",
        "outputId": "06d54ff0-407e-42da-c3ea-df648aa20008"
      },
      "execution_count": 6,
      "outputs": [
        {
          "output_type": "stream",
          "name": "stdout",
          "text": [
            "GPU 0: Tesla T4 (UUID: GPU-9515816d-23c8-d6e7-1489-c745444944c1)\n"
          ]
        }
      ]
    },
    {
      "cell_type": "markdown",
      "source": [
        "#### GPU specs"
      ],
      "metadata": {
        "id": "bMh37I-7tC8k"
      }
    },
    {
      "cell_type": "code",
      "source": [
        "!nvidia-smi"
      ],
      "metadata": {
        "colab": {
          "base_uri": "https://localhost:8080/"
        },
        "id": "jyu_p1FPWERd",
        "outputId": "128f4b38-aca1-44c2-c794-8256a72c53fd"
      },
      "execution_count": 7,
      "outputs": [
        {
          "output_type": "stream",
          "name": "stdout",
          "text": [
            "Mon May  1 15:25:37 2023       \n",
            "+-----------------------------------------------------------------------------+\n",
            "| NVIDIA-SMI 525.85.12    Driver Version: 525.85.12    CUDA Version: 12.0     |\n",
            "|-------------------------------+----------------------+----------------------+\n",
            "| GPU  Name        Persistence-M| Bus-Id        Disp.A | Volatile Uncorr. ECC |\n",
            "| Fan  Temp  Perf  Pwr:Usage/Cap|         Memory-Usage | GPU-Util  Compute M. |\n",
            "|                               |                      |               MIG M. |\n",
            "|===============================+======================+======================|\n",
            "|   0  Tesla T4            Off  | 00000000:00:04.0 Off |                    0 |\n",
            "| N/A   54C    P8    10W /  70W |      0MiB / 15360MiB |      0%      Default |\n",
            "|                               |                      |                  N/A |\n",
            "+-------------------------------+----------------------+----------------------+\n",
            "                                                                               \n",
            "+-----------------------------------------------------------------------------+\n",
            "| Processes:                                                                  |\n",
            "|  GPU   GI   CI        PID   Type   Process name                  GPU Memory |\n",
            "|        ID   ID                                                   Usage      |\n",
            "|=============================================================================|\n",
            "|  No running processes found                                                 |\n",
            "+-----------------------------------------------------------------------------+\n"
          ]
        }
      ]
    },
    {
      "cell_type": "markdown",
      "source": [
        "# import some libraries"
      ],
      "metadata": {
        "id": "7Yf68mUSubI-"
      }
    },
    {
      "cell_type": "code",
      "source": [
        "import pandas as pd\n",
        "import seaborn as sns\n",
        "import matplotlib as plt\n",
        "import numpy as np\n",
        "from sklearn import svm"
      ],
      "metadata": {
        "id": "KmdR8ugsp2AF"
      },
      "execution_count": 8,
      "outputs": []
    },
    {
      "cell_type": "code",
      "source": [
        "a=3"
      ],
      "metadata": {
        "id": "5mClznH0u48J"
      },
      "execution_count": 9,
      "outputs": []
    },
    {
      "cell_type": "code",
      "source": [
        "a"
      ],
      "metadata": {
        "colab": {
          "base_uri": "https://localhost:8080/"
        },
        "id": "Iya90sygzNfj",
        "outputId": "12589f82-aac7-4bef-b5c1-95c4ba6ace73"
      },
      "execution_count": 10,
      "outputs": [
        {
          "output_type": "execute_result",
          "data": {
            "text/plain": [
              "3"
            ]
          },
          "metadata": {},
          "execution_count": 10
        }
      ]
    },
    {
      "cell_type": "code",
      "source": [
        "a= 45\n"
      ],
      "metadata": {
        "id": "9Pv8l1XQzQhv"
      },
      "execution_count": 12,
      "outputs": []
    },
    {
      "cell_type": "code",
      "source": [
        "b= 96"
      ],
      "metadata": {
        "id": "JPq54MKQ1cgT"
      },
      "execution_count": 13,
      "outputs": []
    },
    {
      "cell_type": "code",
      "source": [],
      "metadata": {
        "id": "GUsjYJ0f7zy1"
      },
      "execution_count": null,
      "outputs": []
    }
  ]
}