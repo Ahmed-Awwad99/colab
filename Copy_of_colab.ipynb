{
  "nbformat": 4,
  "nbformat_minor": 0,
  "metadata": {
    "colab": {
      "provenance": [],
      "toc_visible": true,
      "mount_file_id": "1NoJaQB28VWBpJURELCTzOaYS4FPISgV2",
      "authorship_tag": "ABX9TyP6QJePaI47/CJX6A41QrZW",
      "include_colab_link": true
    },
    "kernelspec": {
      "name": "python3",
      "display_name": "Python 3"
    },
    "language_info": {
      "name": "python"
    },
    "accelerator": "GPU",
    "gpuClass": "standard"
  },
  "cells": [
    {
      "cell_type": "markdown",
      "metadata": {
        "id": "view-in-github",
        "colab_type": "text"
      },
      "source": [
        "<a href=\"https://colab.research.google.com/github/Ahmed-Awwad99/colab/blob/main/Copy_of_colab.ipynb\" target=\"_parent\"><img src=\"https://colab.research.google.com/assets/colab-badge.svg\" alt=\"Open In Colab\"/></a>"
      ]
    },
    {
      "cell_type": "markdown",
      "source": [
        "# Allocated resources"
      ],
      "metadata": {
        "id": "PQudUQauqf-Q"
      }
    },
    {
      "cell_type": "code",
      "execution_count": null,
      "metadata": {
        "id": "kbhQwbOEUqcg"
      },
      "outputs": [],
      "source": [
        "from psutil import *"
      ]
    },
    {
      "cell_type": "markdown",
      "source": [
        "## CPU"
      ],
      "metadata": {
        "id": "4CD_otXQq-Ic"
      }
    },
    {
      "cell_type": "markdown",
      "source": [
        "#### number of cpu units"
      ],
      "metadata": {
        "id": "7zgvjzi6rVqz"
      }
    },
    {
      "cell_type": "code",
      "source": [
        "cpu_count()"
      ],
      "metadata": {
        "colab": {
          "base_uri": "https://localhost:8080/"
        },
        "id": "7N3T17aoUvAL",
        "outputId": "375f6fe5-40dc-4c74-ca63-a0113c39b83b"
      },
      "execution_count": null,
      "outputs": [
        {
          "output_type": "execute_result",
          "data": {
            "text/plain": [
              "2"
            ]
          },
          "metadata": {},
          "execution_count": 2
        }
      ]
    },
    {
      "cell_type": "markdown",
      "source": [
        "#### cpu model and speed"
      ],
      "metadata": {
        "id": "eIVHPJ1LrIuL"
      }
    },
    {
      "cell_type": "code",
      "source": [
        "!lscpu |grep 'Model name'"
      ],
      "metadata": {
        "colab": {
          "base_uri": "https://localhost:8080/"
        },
        "id": "7-O6GvwSUxAn",
        "outputId": "10fc4972-7a7d-4f87-9053-bc56cef9aea6"
      },
      "execution_count": null,
      "outputs": [
        {
          "output_type": "stream",
          "name": "stdout",
          "text": [
            "Model name:                      Intel(R) Xeon(R) CPU @ 2.30GHz\n"
          ]
        }
      ]
    },
    {
      "cell_type": "markdown",
      "source": [
        "## HDD"
      ],
      "metadata": {
        "id": "MQFnwwdprvKD"
      }
    },
    {
      "cell_type": "markdown",
      "source": [
        "#### Usable HDD space"
      ],
      "metadata": {
        "id": "Vl4r9xhEri-_"
      }
    },
    {
      "cell_type": "code",
      "source": [
        "\n",
        "!df -h | awk '{print $4}'"
      ],
      "metadata": {
        "colab": {
          "base_uri": "https://localhost:8080/"
        },
        "id": "_Mnn6C0nVAQC",
        "outputId": "edeaea1f-c38b-4766-c2b9-9495fc58c439"
      },
      "execution_count": null,
      "outputs": [
        {
          "output_type": "stream",
          "name": "stdout",
          "text": [
            "Avail\n",
            "44G\n",
            "64M\n",
            "5.7G\n",
            "841M\n",
            "6.4G\n",
            "34G\n",
            "6.4G\n",
            "6.4G\n",
            "6.4G\n"
          ]
        }
      ]
    },
    {
      "cell_type": "markdown",
      "source": [
        "## memory"
      ],
      "metadata": {
        "id": "wUKM05odr9wk"
      }
    },
    {
      "cell_type": "markdown",
      "source": [
        "####  Usable memory"
      ],
      "metadata": {
        "id": "7qig7d27sAy0"
      }
    },
    {
      "cell_type": "code",
      "source": [
        "#memory that we c an use \n",
        "!free -h --si | awk '/Mem:/{print $2}'"
      ],
      "metadata": {
        "colab": {
          "base_uri": "https://localhost:8080/"
        },
        "id": "VYnAhDa7VSbq",
        "outputId": "0f6a342b-b538-4880-9c18-98889eb5c64a"
      },
      "execution_count": null,
      "outputs": [
        {
          "output_type": "stream",
          "name": "stdout",
          "text": [
            "12G\n"
          ]
        }
      ]
    },
    {
      "cell_type": "markdown",
      "source": [
        "## GPU"
      ],
      "metadata": {
        "id": "xG7mmFwPsmqj"
      }
    },
    {
      "cell_type": "markdown",
      "source": [
        "#### GPU type"
      ],
      "metadata": {
        "id": "T6XeLLb5svp0"
      }
    },
    {
      "cell_type": "code",
      "source": [
        "!nvidia-smi -L"
      ],
      "metadata": {
        "colab": {
          "base_uri": "https://localhost:8080/"
        },
        "id": "6An7ia0PXT3u",
        "outputId": "780a498a-4877-47e8-d767-21f5565e7920"
      },
      "execution_count": null,
      "outputs": [
        {
          "output_type": "stream",
          "name": "stdout",
          "text": [
            "GPU 0: Tesla T4 (UUID: GPU-27d2202e-4ca5-3a12-1453-f32e1ab4832b)\n"
          ]
        }
      ]
    },
    {
      "cell_type": "markdown",
      "source": [
        "#### GPU specs"
      ],
      "metadata": {
        "id": "bMh37I-7tC8k"
      }
    },
    {
      "cell_type": "code",
      "source": [
        "!nvidia-smi"
      ],
      "metadata": {
        "colab": {
          "base_uri": "https://localhost:8080/"
        },
        "id": "jyu_p1FPWERd",
        "outputId": "7ec188e5-7de7-417f-b74f-42bc31e409e0"
      },
      "execution_count": null,
      "outputs": [
        {
          "output_type": "stream",
          "name": "stdout",
          "text": [
            "Mon May  1 15:04:07 2023       \n",
            "+-----------------------------------------------------------------------------+\n",
            "| NVIDIA-SMI 525.85.12    Driver Version: 525.85.12    CUDA Version: 12.0     |\n",
            "|-------------------------------+----------------------+----------------------+\n",
            "| GPU  Name        Persistence-M| Bus-Id        Disp.A | Volatile Uncorr. ECC |\n",
            "| Fan  Temp  Perf  Pwr:Usage/Cap|         Memory-Usage | GPU-Util  Compute M. |\n",
            "|                               |                      |               MIG M. |\n",
            "|===============================+======================+======================|\n",
            "|   0  Tesla T4            Off  | 00000000:00:04.0 Off |                    0 |\n",
            "| N/A   38C    P8     9W /  70W |      0MiB / 15360MiB |      0%      Default |\n",
            "|                               |                      |                  N/A |\n",
            "+-------------------------------+----------------------+----------------------+\n",
            "                                                                               \n",
            "+-----------------------------------------------------------------------------+\n",
            "| Processes:                                                                  |\n",
            "|  GPU   GI   CI        PID   Type   Process name                  GPU Memory |\n",
            "|        ID   ID                                                   Usage      |\n",
            "|=============================================================================|\n",
            "|  No running processes found                                                 |\n",
            "+-----------------------------------------------------------------------------+\n"
          ]
        }
      ]
    },
    {
      "cell_type": "markdown",
      "source": [
        "# import some libraries"
      ],
      "metadata": {
        "id": "7Yf68mUSubI-"
      }
    },
    {
      "cell_type": "code",
      "source": [
        "import pandas as pd\n",
        "import seaborn as sns\n",
        "import matplotlib as plt\n",
        "import numpy as np\n",
        "from sklearn import svm"
      ],
      "metadata": {
        "id": "KmdR8ugsp2AF"
      },
      "execution_count": null,
      "outputs": []
    },
    {
      "cell_type": "code",
      "source": [
        "a=3"
      ],
      "metadata": {
        "id": "5mClznH0u48J"
      },
      "execution_count": null,
      "outputs": []
    },
    {
      "cell_type": "code",
      "source": [
        "a"
      ],
      "metadata": {
        "colab": {
          "base_uri": "https://localhost:8080/"
        },
        "id": "Iya90sygzNfj",
        "outputId": "8bee3494-663d-4bd7-be05-05dece225ed0"
      },
      "execution_count": null,
      "outputs": [
        {
          "output_type": "execute_result",
          "data": {
            "text/plain": [
              "3"
            ]
          },
          "metadata": {},
          "execution_count": 10
        }
      ]
    },
    {
      "cell_type": "code",
      "source": [
        "a= 44\n"
      ],
      "metadata": {
        "id": "9Pv8l1XQzQhv"
      },
      "execution_count": null,
      "outputs": []
    },
    {
      "cell_type": "code",
      "source": [],
      "metadata": {
        "id": "JPq54MKQ1cgT"
      },
      "execution_count": null,
      "outputs": []
    }
  ]
}