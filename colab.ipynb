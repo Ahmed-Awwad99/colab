{
  "nbformat": 4,
  "nbformat_minor": 0,
  "metadata": {
    "colab": {
      "provenance": [],
      "authorship_tag": "ABX9TyMGPk8D7RzX4hPY4IPXijPA",
      "include_colab_link": true
    },
    "kernelspec": {
      "name": "python3",
      "display_name": "Python 3"
    },
    "language_info": {
      "name": "python"
    },
    "accelerator": "GPU",
    "gpuClass": "standard"
  },
  "cells": [
    {
      "cell_type": "markdown",
      "metadata": {
        "id": "view-in-github",
        "colab_type": "text"
      },
      "source": [
        "<a href=\"https://colab.research.google.com/github/Ahmed-Awwad99/colab/blob/main/colab.ipynb\" target=\"_parent\"><img src=\"https://colab.research.google.com/assets/colab-badge.svg\" alt=\"Open In Colab\"/></a>"
      ]
    },
    {
      "cell_type": "markdown",
      "source": [
        "# Allocated resources"
      ],
      "metadata": {
        "id": "PQudUQauqf-Q"
      }
    },
    {
      "cell_type": "code",
      "execution_count": null,
      "metadata": {
        "id": "kbhQwbOEUqcg"
      },
      "outputs": [],
      "source": [
        "from psutil import *"
      ]
    },
    {
      "cell_type": "markdown",
      "source": [
        "## CPU"
      ],
      "metadata": {
        "id": "4CD_otXQq-Ic"
      }
    },
    {
      "cell_type": "markdown",
      "source": [
        "#### number of cpu units"
      ],
      "metadata": {
        "id": "7zgvjzi6rVqz"
      }
    },
    {
      "cell_type": "code",
      "source": [
        "cpu_count()"
      ],
      "metadata": {
        "colab": {
          "base_uri": "https://localhost:8080/"
        },
        "id": "7N3T17aoUvAL",
        "outputId": "807272c9-ec32-4ada-f1f7-803c329fb410"
      },
      "execution_count": null,
      "outputs": [
        {
          "output_type": "execute_result",
          "data": {
            "text/plain": [
              "2"
            ]
          },
          "metadata": {},
          "execution_count": 2
        }
      ]
    },
    {
      "cell_type": "markdown",
      "source": [
        "#### cpu model and speed"
      ],
      "metadata": {
        "id": "eIVHPJ1LrIuL"
      }
    },
    {
      "cell_type": "code",
      "source": [
        "!lscpu |grep 'Model name'"
      ],
      "metadata": {
        "colab": {
          "base_uri": "https://localhost:8080/"
        },
        "id": "7-O6GvwSUxAn",
        "outputId": "0596055c-a49d-464d-d037-9b5f31097046"
      },
      "execution_count": null,
      "outputs": [
        {
          "output_type": "stream",
          "name": "stdout",
          "text": [
            "Model name:                      Intel(R) Xeon(R) CPU @ 2.20GHz\n"
          ]
        }
      ]
    },
    {
      "cell_type": "markdown",
      "source": [
        "## HDD"
      ],
      "metadata": {
        "id": "MQFnwwdprvKD"
      }
    },
    {
      "cell_type": "markdown",
      "source": [
        "#### Usable HDD space"
      ],
      "metadata": {
        "id": "Vl4r9xhEri-_"
      }
    },
    {
      "cell_type": "code",
      "source": [
        "\n",
        "!df -h | awk '{print $4}'"
      ],
      "metadata": {
        "colab": {
          "base_uri": "https://localhost:8080/"
        },
        "id": "_Mnn6C0nVAQC",
        "outputId": "50d69419-a736-43f5-c43a-18a935970861"
      },
      "execution_count": null,
      "outputs": [
        {
          "output_type": "stream",
          "name": "stdout",
          "text": [
            "Avail\n",
            "51G\n",
            "64M\n",
            "5.7G\n",
            "841M\n",
            "34G\n",
            "6.4G\n",
            "6.4G\n",
            "6.4G\n",
            "6.4G\n"
          ]
        }
      ]
    },
    {
      "cell_type": "markdown",
      "source": [
        "## memory"
      ],
      "metadata": {
        "id": "wUKM05odr9wk"
      }
    },
    {
      "cell_type": "markdown",
      "source": [
        "####  Usable memory"
      ],
      "metadata": {
        "id": "7qig7d27sAy0"
      }
    },
    {
      "cell_type": "code",
      "source": [
        "#memory that we c an use \n",
        "!free -h --si | awk '/Mem:/{print $2}'"
      ],
      "metadata": {
        "colab": {
          "base_uri": "https://localhost:8080/"
        },
        "id": "VYnAhDa7VSbq",
        "outputId": "99c53e20-cb97-4d7c-a3e1-7bc24804b699"
      },
      "execution_count": null,
      "outputs": [
        {
          "output_type": "stream",
          "name": "stdout",
          "text": [
            "12G\n"
          ]
        }
      ]
    },
    {
      "cell_type": "markdown",
      "source": [
        "## GPU"
      ],
      "metadata": {
        "id": "xG7mmFwPsmqj"
      }
    },
    {
      "cell_type": "markdown",
      "source": [
        "#### GPU type"
      ],
      "metadata": {
        "id": "T6XeLLb5svp0"
      }
    },
    {
      "cell_type": "code",
      "source": [
        "!nvidia-smi -L"
      ],
      "metadata": {
        "colab": {
          "base_uri": "https://localhost:8080/"
        },
        "id": "6An7ia0PXT3u",
        "outputId": "06d54ff0-407e-42da-c3ea-df648aa20008"
      },
      "execution_count": null,
      "outputs": [
        {
          "output_type": "stream",
          "name": "stdout",
          "text": [
            "GPU 0: Tesla T4 (UUID: GPU-9515816d-23c8-d6e7-1489-c745444944c1)\n"
          ]
        }
      ]
    },
    {
      "cell_type": "markdown",
      "source": [
        "#### GPU specs"
      ],
      "metadata": {
        "id": "bMh37I-7tC8k"
      }
    },
    {
      "cell_type": "code",
      "source": [
        "!nvidia-smi"
      ],
      "metadata": {
        "colab": {
          "base_uri": "https://localhost:8080/"
        },
        "id": "jyu_p1FPWERd",
        "outputId": "128f4b38-aca1-44c2-c794-8256a72c53fd"
      },
      "execution_count": null,
      "outputs": [
        {
          "output_type": "stream",
          "name": "stdout",
          "text": [
            "Mon May  1 15:25:37 2023       \n",
            "+-----------------------------------------------------------------------------+\n",
            "| NVIDIA-SMI 525.85.12    Driver Version: 525.85.12    CUDA Version: 12.0     |\n",
            "|-------------------------------+----------------------+----------------------+\n",
            "| GPU  Name        Persistence-M| Bus-Id        Disp.A | Volatile Uncorr. ECC |\n",
            "| Fan  Temp  Perf  Pwr:Usage/Cap|         Memory-Usage | GPU-Util  Compute M. |\n",
            "|                               |                      |               MIG M. |\n",
            "|===============================+======================+======================|\n",
            "|   0  Tesla T4            Off  | 00000000:00:04.0 Off |                    0 |\n",
            "| N/A   54C    P8    10W /  70W |      0MiB / 15360MiB |      0%      Default |\n",
            "|                               |                      |                  N/A |\n",
            "+-------------------------------+----------------------+----------------------+\n",
            "                                                                               \n",
            "+-----------------------------------------------------------------------------+\n",
            "| Processes:                                                                  |\n",
            "|  GPU   GI   CI        PID   Type   Process name                  GPU Memory |\n",
            "|        ID   ID                                                   Usage      |\n",
            "|=============================================================================|\n",
            "|  No running processes found                                                 |\n",
            "+-----------------------------------------------------------------------------+\n"
          ]
        }
      ]
    },
    {
      "cell_type": "markdown",
      "source": [
        "# downloading with colab"
      ],
      "metadata": {
        "id": "_Xplr34OP1kp"
      }
    },
    {
      "cell_type": "code",
      "source": [
        "import urllib.request\n",
        "from tqdm import tqdm\n",
        "\n",
        "url = 'https://www.cs.toronto.edu/~kriz/cifar-10-python.tar.gz'\n",
        "filename = 'cifar-10-python.tar.gz'\n",
        "\n",
        "with tqdm(unit='B', unit_scale=True, miniters=1, desc=filename) as progress:\n",
        "    urllib.request.urlretrieve(url, filename, reporthook=lambda blocknum, blocksize, totalsize: progress.update(blocksize))"
      ],
      "metadata": {
        "colab": {
          "base_uri": "https://localhost:8080/"
        },
        "id": "tc2u_2xCn0e6",
        "outputId": "3c0e58c6-6ba6-4f19-e428-8eef42f4f64d"
      },
      "execution_count": null,
      "outputs": [
        {
          "output_type": "stream",
          "name": "stderr",
          "text": [
            "cifar-10-python.tar.gz: 171MB [00:05, 30.7MB/s]\n"
          ]
        }
      ]
    },
    {
      "cell_type": "markdown",
      "source": [
        "# import some libraries"
      ],
      "metadata": {
        "id": "7Yf68mUSubI-"
      }
    },
    {
      "cell_type": "code",
      "source": [
        "import pandas as pd\n",
        "import seaborn as sns\n",
        "import matplotlib as plt\n",
        "import numpy as np\n",
        "from sklearn import svm"
      ],
      "metadata": {
        "id": "KmdR8ugsp2AF"
      },
      "execution_count": 4,
      "outputs": []
    },
    {
      "cell_type": "markdown",
      "source": [
        "#### run some code"
      ],
      "metadata": {
        "id": "OazZ3O3YxQpo"
      }
    },
    {
      "cell_type": "code",
      "source": [
        "# Generate some sample data\n",
        "x = np.array([[0, 0], [1, 1], [1, 0], [0, 1]])\n",
        "y = np.array([0, 0, 1, 1])\n",
        "\n",
        "# Create a SVM object and fit the data\n",
        "clf = svm.SVC(kernel='linear', C=1).fit(x, y)\n",
        "\n",
        "# Predict the class labels for new data\n",
        "x_new = np.array([[2, 2], [-1, -1]])\n",
        "y_pred = clf.predict(x_new)\n",
        "\n",
        "# Print the predicted class labels\n",
        "print(\"Predicted class labels: \", y_pred)\n"
      ],
      "metadata": {
        "id": "l9nmOET5uPBG",
        "colab": {
          "base_uri": "https://localhost:8080/"
        },
        "outputId": "193d7887-9845-4feb-f34a-a63880e01b4a"
      },
      "execution_count": 5,
      "outputs": [
        {
          "output_type": "stream",
          "name": "stdout",
          "text": [
            "Predicted class labels:  [1 1]\n"
          ]
        }
      ]
    }
  ]
}